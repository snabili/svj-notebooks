{
 "cells": [
  {
   "cell_type": "code",
   "execution_count": 2,
   "metadata": {},
   "outputs": [
    {
     "name": "stderr",
     "output_type": "stream",
     "text": [
      "\u001b[33m   INFO:2020-12-08 10:53:49:__init__:32\u001b[0m Using tqdm notebook\n"
     ]
    }
   ],
   "source": [
    "import svjflatanalysis\n",
    "import numpy as np\n",
    "from time import strftime\n",
    "import os\n",
    "import os.path as osp\n",
    "from glob import glob\n",
    "import imp, importlib\n",
    "import mplhep\n",
    "import seutils\n",
    "\n",
    "import matplotlib.pyplot as plt\n",
    "import numpy as np\n",
    "import coffea"
   ]
  },
  {
   "cell_type": "code",
   "execution_count": null,
   "metadata": {},
   "outputs": [],
   "source": []
  },
  {
   "cell_type": "code",
   "execution_count": null,
   "metadata": {},
   "outputs": [],
   "source": []
  },
  {
   "cell_type": "code",
   "execution_count": null,
   "metadata": {},
   "outputs": [],
   "source": []
  },
  {
   "cell_type": "code",
   "execution_count": 35,
   "metadata": {
    "scrolled": false
   },
   "outputs": [
    {
     "name": "stdout",
     "output_type": "stream",
     "text": [
      "/Users/klijnsma/work/svj/flat/data/features_Dec07/Autumn18.WJetsToLNu_HT-800To1200_TuneCP5_13TeV-madgraphMLM-pythia8*.npz\n",
      "/Users/klijnsma/work/svj/flat/data/features_Dec07/Autumn18.QCD_Pt_1000to1400_TuneCP5_13TeV_pythia8*.npz\n",
      "/Users/klijnsma/work/svj/flat/data/features_Dec07/Autumn18.QCD_Pt_3200toInf_TuneCP5_13TeV_pythia8*.npz\n",
      "/Users/klijnsma/work/svj/flat/data/features_Dec07/Autumn18.TTJets_TuneCP5_13TeV-madgraphMLM-pythia8*.npz\n",
      "/Users/klijnsma/work/svj/flat/data/features_Dec07/Autumn18.TTJets_DiLept_TuneCP5_13TeV-madgraphMLM-pythia8*.npz\n",
      "/Users/klijnsma/work/svj/flat/data/features_Dec07/Autumn18.ZJetsToNuNu_HT-600To800_13TeV-madgraph*.npz\n",
      "/Users/klijnsma/work/svj/flat/data/features_Dec07/Autumn18.TTJets_SingleLeptFromTbar_TuneCP5_13TeV-madgraphMLM-pythia8*.npz\n",
      "/Users/klijnsma/work/svj/flat/data/features_Dec07/Autumn18.ZJetsToNuNu_HT-200To400_13TeV-madgraph*.npz\n",
      "/Users/klijnsma/work/svj/flat/data/features_Dec07/Autumn18.WJetsToLNu_HT-2500ToInf_TuneCP5_13TeV-madgraphMLM-pythia8*.npz\n"
     ]
    },
    {
     "name": "stderr",
     "output_type": "stream",
     "text": [
      "\u001b[33m  ERROR:2020-12-08 11:30:54:dataset:395\u001b[0m Error loading /Users/klijnsma/work/svj/flat/data/features_Dec07/Autumn18.WJetsToLNu_HT-2500ToInf_TuneCP5_13TeV-madgraphMLM-pythia8_batch57_N4000.npz - skipping\n"
     ]
    },
    {
     "name": "stdout",
     "output_type": "stream",
     "text": [
      "/Users/klijnsma/work/svj/flat/data/features_Dec07/Autumn18.WJetsToLNu_HT-200To400_TuneCP5_13TeV-madgraphMLM-pythia8*.npz\n",
      "/Users/klijnsma/work/svj/flat/data/features_Dec07/Autumn18.QCD_Pt_470to600_TuneCP5_13TeV_pythia8*.npz\n",
      "/Users/klijnsma/work/svj/flat/data/features_Dec07/Autumn18.ZJetsToNuNu_HT-1200To2500_13TeV-madgraph*.npz\n",
      "/Users/klijnsma/work/svj/flat/data/features_Dec07/Autumn18.QCD_Pt_300to470_TuneCP5_13TeV_pythia8*.npz\n",
      "/Users/klijnsma/work/svj/flat/data/features_Dec07/Autumn18.QCD_Pt_800to1000_TuneCP5_13TeV_pythia8_ext1*.npz\n",
      "/Users/klijnsma/work/svj/flat/data/features_Dec07/Autumn18.TTJets_SingleLeptFromT_genMET-80_TuneCP5_13TeV-madgraphMLM-pythia8*.npz\n",
      "/Users/klijnsma/work/svj/flat/data/features_Dec07/Autumn18.WJetsToLNu_HT-1200To2500_TuneCP5_13TeV-madgraphMLM-pythia8*.npz\n",
      "/Users/klijnsma/work/svj/flat/data/features_Dec07/Autumn18.ZJetsToNuNu_HT-400To600_13TeV-madgraph*.npz\n",
      "/Users/klijnsma/work/svj/flat/data/features_Dec07/Autumn18.QCD_Pt_1800to2400_TuneCP5_13TeV_pythia8*.npz\n",
      "/Users/klijnsma/work/svj/flat/data/features_Dec07/Autumn18.QCD_Pt_600to800_TuneCP5_13TeV_pythia8*.npz\n",
      "/Users/klijnsma/work/svj/flat/data/features_Dec07/Autumn18.TTJets_HT-800to1200_TuneCP5_13TeV-madgraphMLM-pythia8*.npz\n",
      "/Users/klijnsma/work/svj/flat/data/features_Dec07/Autumn18.TTJets_DiLept_genMET-80_TuneCP5_13TeV-madgraphMLM-pythia8*.npz\n",
      "/Users/klijnsma/work/svj/flat/data/features_Dec07/Autumn18.QCD_Pt_1400to1800_TuneCP5_13TeV_pythia8*.npz\n",
      "/Users/klijnsma/work/svj/flat/data/features_Dec07/Autumn18.TTJets_HT-600to800_TuneCP5_13TeV-madgraphMLM-pythia8*.npz\n",
      "/Users/klijnsma/work/svj/flat/data/features_Dec07/Autumn18.ZJetsToNuNu_HT-800To1200_13TeV-madgraph*.npz\n",
      "/Users/klijnsma/work/svj/flat/data/features_Dec07/Autumn18.WJetsToLNu_HT-600To800_TuneCP5_13TeV-madgraphMLM-pythia8*.npz\n",
      "/Users/klijnsma/work/svj/flat/data/features_Dec07/Autumn18.ZJetsToNuNu_HT-2500ToInf_13TeV-madgraph*.npz\n",
      "/Users/klijnsma/work/svj/flat/data/features_Dec07/Autumn18.TTJets_SingleLeptFromTbar_genMET-80_TuneCP5_13TeV-madgraphMLM-pythia8*.npz\n",
      "/Users/klijnsma/work/svj/flat/data/features_Dec07/Autumn18.QCD_Pt_170to300_TuneCP5_13TeV_pythia8*.npz\n",
      "/Users/klijnsma/work/svj/flat/data/features_Dec07/Autumn18.TTJets_HT-1200to2500_TuneCP5_13TeV-madgraphMLM-pythia8*.npz\n",
      "/Users/klijnsma/work/svj/flat/data/features_Dec07/Autumn18.WJetsToLNu_HT-100To200_TuneCP5_13TeV-madgraphMLM-pythia8*.npz\n",
      "/Users/klijnsma/work/svj/flat/data/features_Dec07/Autumn18.WJetsToLNu_HT-400To600_TuneCP5_13TeV-madgraphMLM-pythia8*.npz\n",
      "/Users/klijnsma/work/svj/flat/data/features_Dec07/Autumn18.QCD_Pt_2400to3200_TuneCP5_13TeV_pythia8*.npz\n",
      "/Users/klijnsma/work/svj/flat/data/features_Dec07/Autumn18.TTJets_HT-2500toInf_TuneCP5_13TeV-madgraphMLM-pythia8*.npz\n",
      "/Users/klijnsma/work/svj/flat/data/features_Dec07/Autumn18.TTJets_SingleLeptFromT_TuneCP5_13TeV-madgraphMLM-pythia8*.npz\n"
     ]
    }
   ],
   "source": [
    "importlib.reload(svjflatanalysis.samples)\n",
    "importlib.reload(svjflatanalysis.dataset)\n",
    "bkgs = svjflatanalysis.samples.init_bkg_features()"
   ]
  },
  {
   "cell_type": "code",
   "execution_count": 36,
   "metadata": {},
   "outputs": [
    {
     "name": "stdout",
     "output_type": "stream",
     "text": [
      "Autumn18.TTJets_DiLept_TuneCP5_13TeV-madgraphMLM-pythia8 5514\n",
      "Autumn18.TTJets_SingleLeptFromTbar_TuneCP5_13TeV-madgraphMLM-pythia8 10370\n",
      "Autumn18.TTJets_HT-800to1200_TuneCP5_13TeV-madgraphMLM-pythia8 643882\n",
      "Autumn18.TTJets_HT-600to800_TuneCP5_13TeV-madgraphMLM-pythia8 382365\n",
      "Autumn18.TTJets_HT-1200to2500_TuneCP5_13TeV-madgraphMLM-pythia8 947498\n",
      "Autumn18.TTJets_HT-2500toInf_TuneCP5_13TeV-madgraphMLM-pythia8 1315913\n",
      "Autumn18.TTJets_SingleLeptFromT_TuneCP5_13TeV-madgraphMLM-pythia8 9198\n"
     ]
    }
   ],
   "source": [
    "for bkg in bkgs:\n",
    "    if bkg.get_category() == 'ttjets':\n",
    "        print(bkg.name, bkg.features.shape[0])"
   ]
  },
  {
   "cell_type": "code",
   "execution_count": 37,
   "metadata": {},
   "outputs": [
    {
     "name": "stdout",
     "output_type": "stream",
     "text": [
      "/Users/klijnsma/work/svj/flat/data/features_Dec07/year2018_mz250*.npz\n",
      "/Users/klijnsma/work/svj/flat/data/features_Dec07/year2018_mz150*.npz\n"
     ]
    }
   ],
   "source": [
    "sigs = svjflatanalysis.samples.init_sig_features()"
   ]
  },
  {
   "cell_type": "code",
   "execution_count": null,
   "metadata": {},
   "outputs": [],
   "source": []
  },
  {
   "cell_type": "code",
   "execution_count": 202,
   "metadata": {},
   "outputs": [
    {
     "name": "stderr",
     "output_type": "stream",
     "text": [
      "\u001b[33m   INFO:2020-12-08 12:45:36:dataset:442\u001b[0m  630 ( 630.63) events for year2018_mz250\n",
      "\u001b[33m   INFO:2020-12-08 12:45:36:dataset:442\u001b[0m 2411 (2411.72) events for Autumn18.WJetsToLNu_HT-800To1200_TuneCP5_13TeV-madgraphMLM-pythia8\n",
      "\u001b[33m   INFO:2020-12-08 12:45:36:dataset:442\u001b[0m 10194 (10194.45) events for Autumn18.QCD_Pt_1000to1400_TuneCP5_13TeV_pythia8\n",
      "\u001b[33m   INFO:2020-12-08 12:45:36:dataset:442\u001b[0m    0 (   0.18) events for Autumn18.QCD_Pt_3200toInf_TuneCP5_13TeV_pythia8\n",
      "\u001b[33m   INFO:2020-12-08 12:45:36:dataset:442\u001b[0m 1993 (1993.52) events for Autumn18.TTJets_DiLept_TuneCP5_13TeV-madgraphMLM-pythia8\n",
      "\u001b[33m   INFO:2020-12-08 12:45:36:dataset:442\u001b[0m  255 ( 255.12) events for Autumn18.ZJetsToNuNu_HT-600To800_13TeV-madgraph\n",
      "\u001b[33m   INFO:2020-12-08 12:45:36:dataset:442\u001b[0m 3876 (3876.19) events for Autumn18.TTJets_SingleLeptFromTbar_TuneCP5_13TeV-madgraphMLM-pythia8\n",
      "\u001b[33m   INFO:2020-12-08 12:45:36:dataset:442\u001b[0m    0 (   0.00) events for Autumn18.ZJetsToNuNu_HT-200To400_13TeV-madgraph\n",
      "\u001b[33m   INFO:2020-12-08 12:45:36:dataset:442\u001b[0m   10 (  10.96) events for Autumn18.WJetsToLNu_HT-2500ToInf_TuneCP5_13TeV-madgraphMLM-pythia8\n",
      "\u001b[33m   INFO:2020-12-08 12:45:36:dataset:442\u001b[0m    0 (   0.00) events for Autumn18.WJetsToLNu_HT-200To400_TuneCP5_13TeV-madgraphMLM-pythia8\n",
      "\u001b[33m   INFO:2020-12-08 12:45:36:dataset:442\u001b[0m 442891 (442891.61) events for Autumn18.QCD_Pt_470to600_TuneCP5_13TeV_pythia8\n",
      "\u001b[33m   INFO:2020-12-08 12:45:36:dataset:442\u001b[0m  441 ( 441.47) events for Autumn18.ZJetsToNuNu_HT-1200To2500_13TeV-madgraph\n",
      "\u001b[33m   INFO:2020-12-08 12:45:36:dataset:442\u001b[0m 267322 (267322.31) events for Autumn18.QCD_Pt_300to470_TuneCP5_13TeV_pythia8\n",
      "\u001b[33m   INFO:2020-12-08 12:45:36:dataset:442\u001b[0m 35722 (35722.06) events for Autumn18.QCD_Pt_800to1000_TuneCP5_13TeV_pythia8_ext1\n",
      "\u001b[33m   INFO:2020-12-08 12:45:36:dataset:442\u001b[0m 1413 (1413.43) events for Autumn18.WJetsToLNu_HT-1200To2500_TuneCP5_13TeV-madgraphMLM-pythia8\n",
      "\u001b[33m   INFO:2020-12-08 12:45:36:dataset:442\u001b[0m    0 (   0.00) events for Autumn18.ZJetsToNuNu_HT-400To600_13TeV-madgraph\n",
      "\u001b[33m   INFO:2020-12-08 12:45:36:dataset:442\u001b[0m  118 ( 118.50) events for Autumn18.QCD_Pt_1800to2400_TuneCP5_13TeV_pythia8\n",
      "\u001b[33m   INFO:2020-12-08 12:45:36:dataset:442\u001b[0m 209581 (209581.16) events for Autumn18.QCD_Pt_600to800_TuneCP5_13TeV_pythia8\n",
      "\u001b[33m   INFO:2020-12-08 12:45:36:dataset:442\u001b[0m  826 ( 826.02) events for Autumn18.TTJets_HT-800to1200_TuneCP5_13TeV-madgraphMLM-pythia8\n",
      "\u001b[33m   INFO:2020-12-08 12:45:36:dataset:442\u001b[0m  880 ( 880.93) events for Autumn18.QCD_Pt_1400to1800_TuneCP5_13TeV_pythia8\n",
      "\u001b[33m   INFO:2020-12-08 12:45:36:dataset:442\u001b[0m 1138 (1138.92) events for Autumn18.TTJets_HT-600to800_TuneCP5_13TeV-madgraphMLM-pythia8\n",
      "\u001b[33m   INFO:2020-12-08 12:45:36:dataset:442\u001b[0m  627 ( 627.52) events for Autumn18.ZJetsToNuNu_HT-800To1200_13TeV-madgraph\n",
      "\u001b[33m   INFO:2020-12-08 12:45:36:dataset:442\u001b[0m  892 ( 892.20) events for Autumn18.WJetsToLNu_HT-600To800_TuneCP5_13TeV-madgraphMLM-pythia8\n",
      "\u001b[33m   INFO:2020-12-08 12:45:36:dataset:442\u001b[0m    7 (   7.16) events for Autumn18.ZJetsToNuNu_HT-2500ToInf_13TeV-madgraph\n",
      "\u001b[33m   INFO:2020-12-08 12:45:36:dataset:442\u001b[0m 14470 (14470.82) events for Autumn18.QCD_Pt_170to300_TuneCP5_13TeV_pythia8\n",
      "\u001b[33m   INFO:2020-12-08 12:45:36:dataset:442\u001b[0m  177 ( 177.46) events for Autumn18.TTJets_HT-1200to2500_TuneCP5_13TeV-madgraphMLM-pythia8\n",
      "\u001b[33m   INFO:2020-12-08 12:45:36:dataset:442\u001b[0m    0 (   0.00) events for Autumn18.WJetsToLNu_HT-100To200_TuneCP5_13TeV-madgraphMLM-pythia8\n",
      "\u001b[33m   INFO:2020-12-08 12:45:36:dataset:442\u001b[0m  273 ( 273.35) events for Autumn18.WJetsToLNu_HT-400To600_TuneCP5_13TeV-madgraphMLM-pythia8\n",
      "\u001b[33m   INFO:2020-12-08 12:45:36:dataset:442\u001b[0m    7 (   7.13) events for Autumn18.QCD_Pt_2400to3200_TuneCP5_13TeV_pythia8\n",
      "\u001b[33m   INFO:2020-12-08 12:45:36:dataset:442\u001b[0m    1 (   1.93) events for Autumn18.TTJets_HT-2500toInf_TuneCP5_13TeV-madgraphMLM-pythia8\n",
      "\u001b[33m   INFO:2020-12-08 12:45:36:dataset:442\u001b[0m 3833 (3833.25) events for Autumn18.TTJets_SingleLeptFromT_TuneCP5_13TeV-madgraphMLM-pythia8\n",
      "\u001b[33m  ERROR:2020-12-08 12:45:36:dataset:493\u001b[0m Need 267322 events from <svjflatanalysis.dataset.FeatureDatasetBkg Autumn18.QCD_Pt_300to470_TuneCP5_13TeV_pythia8 object at 0x1d2f104f0>, but only 47695 events available\n",
      "\u001b[33m  ERROR:2020-12-08 12:45:36:dataset:493\u001b[0m Need 14470 events from <svjflatanalysis.dataset.FeatureDatasetBkg Autumn18.QCD_Pt_170to300_TuneCP5_13TeV_pythia8 object at 0x1d2ff1460>, but only 139 events available\n"
     ]
    }
   ],
   "source": [
    "X, y = svjflatanalysis.dataset.weighted_feature_array(sigs[0:1] + bkgs, 1000000)"
   ]
  },
  {
   "cell_type": "code",
   "execution_count": 203,
   "metadata": {},
   "outputs": [
    {
     "name": "stdout",
     "output_type": "stream",
     "text": [
      "(766030, 34)\n",
      "(766030,)\n"
     ]
    }
   ],
   "source": [
    "print(X.shape)\n",
    "print(y.shape)"
   ]
  },
  {
   "cell_type": "markdown",
   "metadata": {},
   "source": [
    "_Done data prep_"
   ]
  },
  {
   "cell_type": "markdown",
   "metadata": {},
   "source": [
    "# Finding good cuts"
   ]
  },
  {
   "cell_type": "code",
   "execution_count": 204,
   "metadata": {},
   "outputs": [],
   "source": [
    "def sb(X, y):\n",
    "    \"\"\"\n",
    "    Returns the sorted feature array, likewise-sorted label array, and the cumulative signal and background counts\n",
    "    \"\"\"\n",
    "    # Sort the arrays\n",
    "    sorter = X.argsort()\n",
    "    X = X[sorter]\n",
    "    y = y[sorter]\n",
    "    s = np.cumsum(y==1)\n",
    "    b = np.cumsum(y==0)\n",
    "    s_reverse = np.cumsum(np.flip(y)==1)\n",
    "    b_reverse = np.cumsum(np.flip(y)==0)\n",
    "    return X, y, s, b, s_reverse, b_reverse\n",
    "    \n",
    "def ams(s, b, b_r=1000):\n",
    "    \"\"\" b_r: constant regularization term \"\"\"\n",
    "    return np.sqrt( 2 * ( (s + b + b_r) * np.log ( 1 + s / (b + b_r) ) - s ) )\n",
    "\n",
    "def best_split_soversqrtb(X, y, do_ams=False, skip_features=None, verbose=True):\n",
    "    n_features = X.shape[1]\n",
    "    best_i_feature = None\n",
    "    best_feature_cut = None\n",
    "    best_operator = None\n",
    "    best_metric = 0.\n",
    "    best_n_sig_left = 0\n",
    "    best_n_bkg_left = 0\n",
    "    \n",
    "    for i_feature in range(n_features):\n",
    "        if skip_features and i_feature in skip_features: continue\n",
    "        sorted_x, sorted_y, s, b, s_reverse, b_reverse = sb(X[:,i_feature], y)\n",
    "                \n",
    "        if do_ams:\n",
    "            metric = lambda s, b: ams(s, b)\n",
    "        else:\n",
    "            metric = lambda s, b: svjflatanalysis.arrayutils.safe_divide(s.astype(np.float), np.sqrt(b))\n",
    "        \n",
    "        metric_lessthan = metric(s, b)\n",
    "        metric_greaterthan = metric(s_reverse, b_reverse)\n",
    "\n",
    "        if np.max(metric_lessthan) > np.max(metric_greaterthan):\n",
    "            metric = metric_lessthan\n",
    "            operator = '<'\n",
    "        else:\n",
    "            metric = metric_greaterthan\n",
    "            operator = '>'\n",
    "            sorted_x = np.flip(sorted_x)\n",
    "            sorted_y = np.flip(sorted_y)\n",
    "                \n",
    "        i_max = np.argmax(metric)\n",
    "        n_sig_left = np.sum(sorted_y[:i_max+1]==1)\n",
    "        n_bkg_left = np.sum(sorted_y[:i_max+1]==0)\n",
    "        if verbose: print(\n",
    "            '  best cut for feature {}: val {} {:.2f} (metric={:.3f}, s={}, b={})'\n",
    "            .format(\n",
    "                svjflatanalysis.arrayutils.feature_labels[i_feature],\n",
    "                operator, sorted_x[i_max], metric[i_max], n_sig_left, n_bkg_left\n",
    "                )\n",
    "            )\n",
    "        if metric[i_max] > best_metric:\n",
    "            best_metric = metric[i_max]\n",
    "            best_i_feature = i_feature\n",
    "            best_feature_cut = sorted_x[i_max]\n",
    "            best_operator = operator\n",
    "            best_n_sig_left = n_sig_left\n",
    "            best_n_bkg_left = n_bkg_left\n",
    "            \n",
    "    return best_i_feature, best_feature_cut, best_metric, best_operator, best_n_sig_left, best_n_bkg_left"
   ]
  },
  {
   "cell_type": "code",
   "execution_count": 246,
   "metadata": {
    "scrolled": false
   },
   "outputs": [],
   "source": [
    "def run_algo(verbose=True, skip_features=None):\n",
    "    X_cut = X\n",
    "    y_cut = y\n",
    "    \n",
    "    print(\n",
    "        'Initial s={s} b={b}'\n",
    "        .format(s=(y==1).sum(), b=(y==0).sum())\n",
    "        )\n",
    "    \n",
    "    for i in range(100):\n",
    "        n_precut = y_cut.shape[0]\n",
    "        i_feature, cut, metric, operator, nsigleft, nbkgleft = best_split_soversqrtb(\n",
    "            X_cut, y_cut, do_ams=True,\n",
    "            verbose=verbose, skip_features=skip_features\n",
    "            )\n",
    "\n",
    "        if i_feature is None:\n",
    "            print('No further good cut to make!')\n",
    "            break\n",
    "\n",
    "        print(\n",
    "            'CUT: {:22s} {} {:8.3f} (metric={:.3f}  s={:<5} b={:<5})'\n",
    "            .format(\n",
    "                svjflatanalysis.arrayutils.feature_labels[i_feature],\n",
    "                operator, cut, metric, nsigleft, nbkgleft\n",
    "                )\n",
    "            )\n",
    "\n",
    "        if nbkgleft==0:\n",
    "            print('Background fully reduced!')\n",
    "            break\n",
    "\n",
    "        if operator == '<':\n",
    "            selection = X_cut[:,i_feature] < cut\n",
    "        else:\n",
    "            selection = X_cut[:,i_feature] > cut\n",
    "\n",
    "        X_cut = X_cut[selection]\n",
    "        y_cut = y_cut[selection]"
   ]
  },
  {
   "cell_type": "code",
   "execution_count": 250,
   "metadata": {
    "scrolled": false
   },
   "outputs": [
    {
     "name": "stdout",
     "output_type": "stream",
     "text": [
      "Initial s=630 b=765400\n",
      "CUT: leading_rt1            >    1.136 (metric=1.627  s=206   b=14956)\n",
      "CUT: subleading_ptd         <    0.303 (metric=2.029  s=148   b=4269 )\n",
      "CUT: subleading_axisminor   >    0.054 (metric=2.124  s=137   b=3113 )\n",
      "CUT: deltaeta               <    1.758 (metric=2.164  s=126   b=2350 )\n",
      "CUT: subleading_pt          <  597.203 (metric=2.201  s=125   b=2183 )\n",
      "CUT: leading_eta            <    1.601 (metric=2.221  s=124   b=2076 )\n",
      "CUT: subleading_axismajor   >    0.103 (metric=2.226  s=122   b=1964 )\n",
      "CUT: subleading_ecfN2b2     > -99999.000 (metric=2.246  s=121   b=1863 )\n",
      "CUT: subleading_girth       <    0.548 (metric=2.083  s=101   b=1318 )\n",
      "CUT: subleading_ecfN2b2     >    0.106 (metric=2.091  s=99    b=1208 )\n",
      "CUT: subleading_girth       >    0.179 (metric=2.093  s=98    b=1160 )\n",
      "CUT: leading_ecfN2b1        >   -1.000 (metric=2.107  s=97    b=1088 )\n",
      "CUT: subleading_pt          <  565.824 (metric=2.002  s=91    b=1035 )\n",
      "CUT: subleading_ecfN2b1     >    0.286 (metric=2.001  s=89    b=949  )\n",
      "CUT: subleading_ecfN2b1     >    0.294 (metric=2.000  s=88    b=907  )\n",
      "CUT: subleading_ecfN2b1     >    0.301 (metric=1.996  s=87    b=871  )\n",
      "CUT: subleading_girth       <    0.532 (metric=1.988  s=86    b=842  )\n",
      "CUT: subleading_msd         >   16.052 (metric=1.980  s=85    b=815  )\n",
      "CUT: dphimet                <    1.855 (metric=1.970  s=84    b=790  )\n",
      "CUT: subleading_msd         >   23.962 (metric=1.960  s=83    b=766  )\n",
      "CUT: leading_rt             >    0.254 (metric=1.948  s=82    b=744  )\n",
      "CUT: leading_rt1            >    1.139 (metric=1.941  s=81    b=714  )\n",
      "CUT: subleading_mt          <  590.801 (metric=1.928  s=80    b=696  )\n",
      "CUT: subleading_girth       <    0.523 (metric=1.913  s=79    b=679  )\n",
      "CUT: subleading_axismajor   <    0.463 (metric=1.911  s=78    b=641  )\n",
      "CUT: subleading_girth       <    0.507 (metric=1.898  s=77    b=620  )\n",
      "CUT: subleading_axisminor   >    0.057 (metric=1.881  s=76    b=607  )\n",
      "CUT: subleading_girth       <    0.496 (metric=1.864  s=75    b=595  )\n",
      "CUT: leading_ecfN2b2        <    0.290 (metric=1.846  s=74    b=583  )\n",
      "CUT: subleading_pt          <  548.403 (metric=1.827  s=73    b=572  )\n",
      "CUT: subleading_pt          <  507.844 (metric=1.820  s=72    b=541  )\n",
      "CUT: subleading_pt          <  490.036 (metric=1.807  s=71    b=521  )\n",
      "CUT: subleading_axisminor   >    0.057 (metric=1.787  s=70    b=512  )\n",
      "CUT: subleading_axisminor   >    0.059 (metric=1.768  s=69    b=501  )\n",
      "CUT: subleading_ecfN2b2     >    0.134 (metric=1.747  s=68    b=492  )\n",
      "CUT: subleading_ecfN2b1     >    0.316 (metric=1.740  s=67    b=461  )\n",
      "CUT: subleading_ecfN2b2     >    0.153 (metric=1.724  s=66    b=443  )\n",
      "CUT: met                    >  199.235 (metric=1.705  s=64    b=388  )\n",
      "CUT: subleading_rt1         >    1.225 (metric=1.691  s=63    b=367  )\n",
      "CUT: subleading_msd         <  256.284 (metric=1.670  s=62    b=357  )\n",
      "CUT: subleading_msd         <  233.905 (metric=1.650  s=61    b=347  )\n",
      "CUT: subleading_msd         <  218.811 (metric=1.636  s=60    b=326  )\n",
      "CUT: subleading_tau21       <    0.837 (metric=1.613  s=59    b=319  )\n",
      "CUT: subleading_girth       >    0.197 (metric=1.592  s=58    b=308  )\n",
      "CUT: leading_rt1            <    1.384 (metric=1.568  s=57    b=302  )\n",
      "CUT: leading_rt1            <    1.356 (metric=1.545  s=56    b=296  )\n",
      "CUT: rt2                    <    2.096 (metric=1.524  s=55    b=285  )\n",
      "CUT: subleading_girth       <    0.481 (metric=1.502  s=54    b=274  )\n",
      "CUT: subleading_msd         <  201.442 (metric=1.486  s=53    b=255  )\n",
      "CUT: subleading_pt          >  180.385 (metric=1.463  s=52    b=246  )\n",
      "CUT: leading_eta            <    1.414 (metric=1.440  s=51    b=238  )\n",
      "CUT: subleading_msd         <  195.916 (metric=1.416  s=50    b=230  )\n",
      "CUT: leading_rt1            <    1.332 (metric=1.392  s=49    b=223  )\n",
      "CUT: rt2                    <    1.843 (metric=1.370  s=48    b=212  )\n",
      "CUT: deltaeta               >    0.117 (metric=1.350  s=47    b=197  )\n",
      "CUT: subleading_eta         >   -1.714 (metric=1.326  s=46    b=189  )\n",
      "CUT: deltaeta               >    0.163 (metric=1.301  s=45    b=182  )\n",
      "CUT: subleading_eta         >   -1.547 (metric=1.275  s=44    b=177  )\n",
      "CUT: subleading_axisminor   <    0.230 (metric=1.248  s=43    b=172  )\n",
      "CUT: subleading_tau21       <    0.809 (metric=1.222  s=42    b=167  )\n",
      "CUT: subleading_energy      < 1378.606 (metric=1.195  s=41    b=163  )\n",
      "CUT: subleading_eta         <    1.604 (metric=1.170  s=40    b=155  )\n",
      "CUT: subleading_eta         <    1.349 (metric=1.146  s=39    b=145  )\n",
      "CUT: leading_ecfN2b2        >    0.042 (metric=1.119  s=38    b=140  )\n",
      "CUT: subleading_axisminor   >    0.066 (metric=1.096  s=37    b=127  )\n",
      "CUT: leading_ecfN2b2        >    0.054 (metric=1.069  s=36    b=122  )\n",
      "CUT: subleading_ecfN2b1     >    0.318 (metric=1.041  s=35    b=118  )\n",
      "CUT: subleading_ecfN2b1     >    0.338 (metric=1.019  s=34    b=101  )\n",
      "CUT: leading_rt             >    0.289 (metric=0.999  s=33    b=81   )\n",
      "CUT: leading_rt             >    0.297 (metric=0.972  s=32    b=74   )\n",
      "CUT: subleading_rt          >    0.840 (metric=0.944  s=31    b=67   )\n",
      "CUT: subleading_msd         <  184.861 (metric=0.917  s=30    b=61   )\n",
      "CUT: subleading_axismajor   <    0.395 (metric=0.889  s=29    b=54   )\n",
      "CUT: met                    >  234.471 (metric=0.860  s=28    b=50   )\n",
      "CUT: leading_pt             >  572.467 (metric=0.832  s=27    b=45   )\n",
      "CUT: subleading_axisminor   >    0.078 (metric=0.803  s=26    b=39   )\n",
      "CUT: subleading_axismajor   <    0.364 (metric=0.774  s=25    b=35   )\n",
      "CUT: subleading_ptd         <    0.281 (metric=0.745  s=24    b=31   )\n",
      "CUT: subleading_ptd         <    0.266 (metric=0.716  s=23    b=25   )\n",
      "CUT: subleading_ptd         <    0.250 (metric=0.688  s=22    b=16   )\n",
      "CUT: met                    <  568.407 (metric=0.657  s=21    b=15   )\n",
      "CUT: subleading_girth       <    0.419 (metric=0.626  s=20    b=14   )\n",
      "CUT: subleading_msd         <  151.706 (metric=0.595  s=19    b=12   )\n",
      "CUT: met                    >  263.876 (metric=0.565  s=18    b=9    )\n",
      "CUT: leading_rtnew          >    0.268 (metric=0.535  s=17    b=5    )\n",
      "CUT: subleading_girth       <    0.345 (metric=0.504  s=16    b=3    )\n",
      "CUT: met                    >  270.222 (metric=0.472  s=15    b=3    )\n",
      "CUT: leading_energy         >  714.133 (metric=0.441  s=14    b=2    )\n",
      "CUT: met                    >  309.788 (metric=0.410  s=13    b=1    )\n",
      "CUT: met                    >  317.150 (metric=0.379  s=12    b=1    )\n",
      "CUT: met                    >  322.137 (metric=0.347  s=11    b=1    )\n",
      "CUT: met                    >  322.296 (metric=0.316  s=10    b=1    )\n",
      "CUT: met                    >  361.244 (metric=0.284  s=9     b=0    )\n",
      "Background fully reduced!\n"
     ]
    }
   ],
   "source": [
    "run_algo(verbose=False)"
   ]
  },
  {
   "cell_type": "code",
   "execution_count": 248,
   "metadata": {},
   "outputs": [
    {
     "name": "stdout",
     "output_type": "stream",
     "text": [
      "Initial s=630 b=765400\n",
      "CUT: leading_rt1            >    1.136 (metric=1.627  s=206   b=14956)\n",
      "CUT: subleading_ptd         <    0.303 (metric=2.029  s=148   b=4269 )\n",
      "CUT: subleading_axisminor   >    0.054 (metric=2.124  s=137   b=3113 )\n",
      "CUT: deltaeta               <    1.758 (metric=2.164  s=126   b=2350 )\n",
      "CUT: subleading_pt          <  597.203 (metric=2.201  s=125   b=2183 )\n",
      "CUT: leading_eta            <    1.601 (metric=2.221  s=124   b=2076 )\n",
      "CUT: subleading_axismajor   >    0.103 (metric=2.226  s=122   b=1964 )\n",
      "CUT: subleading_ecfN2b2     > -99999.000 (metric=2.246  s=121   b=1863 )\n",
      "CUT: subleading_girth       <    0.548 (metric=2.083  s=101   b=1318 )\n",
      "CUT: subleading_ecfN2b2     >    0.106 (metric=2.091  s=99    b=1208 )\n",
      "CUT: subleading_girth       >    0.179 (metric=2.093  s=98    b=1160 )\n",
      "CUT: leading_ecfN2b1        >   -1.000 (metric=2.107  s=97    b=1088 )\n",
      "CUT: subleading_pt          <  565.824 (metric=2.002  s=91    b=1035 )\n",
      "CUT: subleading_ecfN2b1     >    0.286 (metric=2.001  s=89    b=949  )\n",
      "CUT: subleading_ecfN2b1     >    0.294 (metric=2.000  s=88    b=907  )\n",
      "CUT: subleading_ecfN2b1     >    0.301 (metric=1.996  s=87    b=871  )\n",
      "CUT: subleading_girth       <    0.532 (metric=1.988  s=86    b=842  )\n",
      "CUT: dphimet                <    1.855 (metric=1.979  s=85    b=816  )\n",
      "CUT: leading_rt             >    0.254 (metric=1.969  s=84    b=793  )\n",
      "CUT: leading_rt1            >    1.139 (metric=1.962  s=83    b=762  )\n",
      "CUT: subleading_girth       <    0.523 (metric=1.948  s=82    b=745  )\n",
      "CUT: subleading_axismajor   <    0.463 (metric=1.946  s=81    b=706  )\n",
      "CUT: subleading_girth       <    0.507 (metric=1.934  s=80    b=685  )\n",
      "CUT: subleading_girth       >    0.188 (metric=1.918  s=79    b=671  )\n",
      "CUT: subleading_girth       >    0.197 (metric=1.903  s=78    b=655  )\n",
      "CUT: subleading_pt          <  548.403 (metric=1.886  s=77    b=642  )\n",
      "CUT: subleading_pt          <  524.896 (metric=1.871  s=76    b=624  )\n",
      "CUT: subleading_pt          <  507.844 (metric=1.857  s=75    b=606  )\n",
      "CUT: subleading_pt          <  490.036 (metric=1.844  s=74    b=586  )\n",
      "CUT: subleading_girth       <    0.496 (metric=1.825  s=73    b=575  )\n",
      "CUT: leading_ecfN2b2        <    0.290 (metric=1.807  s=72    b=564  )\n",
      "CUT: leading_rt1            <    1.384 (metric=1.788  s=71    b=554  )\n",
      "CUT: deltaeta               <    1.702 (metric=1.768  s=70    b=544  )\n",
      "CUT: subleading_energy      < 1378.606 (metric=1.748  s=69    b=536  )\n",
      "CUT: subleading_eta         <    1.604 (metric=1.733  s=68    b=518  )\n",
      "CUT: subleading_eta         <    1.349 (metric=1.721  s=67    b=494  )\n",
      "CUT: leading_ecfN2b2        >    0.028 (metric=1.701  s=66    b=484  )\n",
      "CUT: leading_rt1            <    1.356 (metric=1.680  s=65    b=476  )\n",
      "CUT: subleading_rtnew       <    2.153 (metric=1.658  s=64    b=468  )\n",
      "CUT: subleading_axisminor   >    0.057 (metric=1.637  s=63    b=461  )\n",
      "CUT: subleading_axisminor   >    0.059 (metric=1.621  s=62    b=442  )\n",
      "CUT: subleading_eta         >   -1.913 (metric=1.599  s=61    b=436  )\n",
      "CUT: subleading_eta         >   -1.714 (metric=1.578  s=60    b=425  )\n",
      "CUT: subleading_eta         >   -1.547 (metric=1.559  s=59    b=413  )\n",
      "CUT: leading_tau21          <    0.926 (metric=1.536  s=58    b=406  )\n",
      "CUT: leading_tau21          <    0.891 (metric=1.514  s=57    b=399  )\n",
      "CUT: leading_tau21          <    0.858 (metric=1.498  s=56    b=379  )\n",
      "CUT: deltaeta               >    0.028 (metric=1.475  s=55    b=373  )\n",
      "CUT: subleading_axisminor   <    0.275 (metric=1.451  s=54    b=368  )\n",
      "CUT: leading_eta            <    1.414 (metric=1.428  s=53    b=359  )\n",
      "CUT: subleading_axisminor   <    0.230 (metric=1.406  s=52    b=351  )\n",
      "CUT: leading_eta            <    1.289 (metric=1.382  s=51    b=345  )\n",
      "CUT: dphimet                >    0.007 (metric=1.358  s=50    b=340  )\n",
      "CUT: dphimet                >    0.022 (metric=1.340  s=49    b=320  )\n",
      "CUT: dphimet                >    0.029 (metric=1.316  s=48    b=314  )\n",
      "CUT: dphimet                >    0.039 (metric=1.293  s=47    b=306  )\n",
      "CUT: dphimet                >    0.043 (metric=1.268  s=46    b=300  )\n",
      "CUT: subleading_axisminor   <    0.216 (metric=1.243  s=45    b=296  )\n",
      "CUT: subleading_axisminor   <    0.209 (metric=1.217  s=44    b=292  )\n",
      "CUT: subleading_girth       <    0.471 (metric=1.197  s=43    b=276  )\n",
      "CUT: leading_rt1            <    1.335 (metric=1.173  s=42    b=268  )\n",
      "CUT: leading_rt1            <    1.315 (metric=1.149  s=41    b=260  )\n",
      "CUT: subleading_axisminor   <    0.198 (metric=1.124  s=40    b=254  )\n",
      "CUT: leading_rt             >    0.261 (metric=1.097  s=39    b=250  )\n",
      "CUT: leading_rt             >    0.268 (metric=1.075  s=38    b=237  )\n",
      "CUT: leading_rt             >    0.276 (metric=1.055  s=37    b=217  )\n",
      "CUT: leading_rtnew          >    0.217 (metric=1.036  s=36    b=196  )\n",
      "CUT: leading_rtnew          >    0.229 (metric=1.018  s=35    b=170  )\n",
      "CUT: subleading_ecfN2b1     >    0.316 (metric=0.995  s=34    b=157  )\n",
      "CUT: subleading_rtnew       >    0.478 (metric=0.970  s=33    b=146  )\n",
      "CUT: rt2                    >    1.243 (metric=0.944  s=32    b=138  )\n",
      "CUT: subleading_ecfN2b2     >    0.157 (metric=0.917  s=31    b=132  )\n",
      "CUT: subleading_axismajor   <    0.375 (metric=0.892  s=30    b=120  )\n",
      "CUT: subleading_girth       <    0.444 (metric=0.866  s=29    b=113  )\n",
      "CUT: subleading_axismajor   <    0.344 (metric=0.839  s=28    b=105  )\n",
      "CUT: subleading_axismajor   <    0.323 (metric=0.811  s=27    b=99   )\n",
      "CUT: subleading_eta         <    0.958 (metric=0.785  s=26    b=88   )\n",
      "CUT: subleading_ecfN2b2     >    0.169 (metric=0.756  s=25    b=85   )\n",
      "CUT: subleading_girth       <    0.421 (metric=0.727  s=24    b=82   )\n",
      "CUT: subleading_girth       <    0.365 (metric=0.704  s=23    b=61   )\n",
      "CUT: subleading_girth       <    0.345 (metric=0.675  s=22    b=54   )\n",
      "CUT: subleading_girth       <    0.339 (metric=0.646  s=21    b=51   )\n",
      "CUT: subleading_eta         <    0.887 (metric=0.616  s=20    b=49   )\n",
      "CUT: leading_pt             >  572.467 (metric=0.586  s=19    b=46   )\n",
      "CUT: leading_pt             >  577.664 (metric=0.556  s=18    b=43   )\n",
      "CUT: leading_energy         >  698.448 (metric=0.526  s=17    b=38   )\n",
      "CUT: subleading_axismajor   >    0.111 (metric=0.496  s=16    b=36   )\n",
      "CUT: subleading_ecfN2b1     <    0.425 (metric=0.465  s=15    b=34   )\n",
      "CUT: subleading_rt          <    2.752 (metric=0.435  s=14    b=31   )\n",
      "CUT: deltaeta               >    0.175 (metric=0.405  s=13    b=28   )\n",
      "CUT: subleading_ecfN2b1     <    0.422 (metric=0.374  s=12    b=26   )\n",
      "CUT: subleading_ecfN2b2     <    0.241 (metric=0.344  s=11    b=17   )\n",
      "CUT: leading_pt             <  786.584 (metric=0.314  s=10    b=13   )\n",
      "CUT: subleading_ecfN2b2     >    0.193 (metric=0.283  s=9     b=8    )\n",
      "CUT: deltaeta               <    0.882 (metric=0.252  s=8     b=3    )\n",
      "CUT: subleading_ecfN2b2     >    0.205 (metric=0.221  s=7     b=1    )\n",
      "CUT: subleading_pt          <  390.235 (metric=0.190  s=6     b=0    )\n",
      "Background fully reduced!\n"
     ]
    }
   ],
   "source": [
    "index = lambda feature_name: svjflatanalysis.arrayutils.feature_labels.index(feature_name)\n",
    "skip_features = [\n",
    "    index('met'), index('leading_mt'), index('subleading_mt'),\n",
    "    index('leading_msd'), index('subleading_msd'),\n",
    "    ]\n",
    "run_algo(verbose=False, skip_features=skip_features)"
   ]
  },
  {
   "cell_type": "code",
   "execution_count": null,
   "metadata": {},
   "outputs": [],
   "source": []
  },
  {
   "cell_type": "code",
   "execution_count": null,
   "metadata": {},
   "outputs": [],
   "source": []
  },
  {
   "cell_type": "markdown",
   "metadata": {},
   "source": [
    "# BDT"
   ]
  },
  {
   "cell_type": "code",
   "execution_count": null,
   "metadata": {},
   "outputs": [],
   "source": []
  },
  {
   "cell_type": "code",
   "execution_count": 230,
   "metadata": {},
   "outputs": [],
   "source": [
    "import xgboost as xgb\n",
    "from sklearn.metrics import confusion_matrix, roc_curve\n",
    "import matplotlib.pyplot as plt"
   ]
  },
  {
   "cell_type": "code",
   "execution_count": 208,
   "metadata": {},
   "outputs": [],
   "source": [
    "from sklearn.model_selection import train_test_split\n",
    "X_train, X_test, y_train, y_test = train_test_split(X, y, test_size=0.2)"
   ]
  },
  {
   "cell_type": "code",
   "execution_count": 261,
   "metadata": {},
   "outputs": [
    {
     "name": "stdout",
     "output_type": "stream",
     "text": [
      "XGBClassifier(base_score=None, booster=None, colsample_bylevel=None,\n",
      "              colsample_bynode=None, colsample_bytree=None, eta=0.1, gamma=None,\n",
      "              gpu_id=None, importance_type='gain', interaction_constraints=None,\n",
      "              learning_rate=None, max_delta_step=None, max_depth=9,\n",
      "              min_child_weight=None, missing=nan, monotone_constraints=None,\n",
      "              n_estimators=100, n_jobs=None, num_parallel_tree=None,\n",
      "              random_state=None, reg_alpha=None, reg_lambda=None,\n",
      "              scale_pos_weight=1000.0, subsample=None, tree_method=None,\n",
      "              validate_parameters=None, verbosity=None)\n"
     ]
    },
    {
     "data": {
      "text/plain": [
       "array([[152668,    409],\n",
       "       [   110,     19]])"
      ]
     },
     "execution_count": 261,
     "metadata": {},
     "output_type": "execute_result"
    }
   ],
   "source": [
    "model = xgb.XGBClassifier(\n",
    "    eta=0.1,\n",
    "    max_depth=9,\n",
    "    scale_pos_weight=1000.\n",
    "    )\n",
    "print(model)\n",
    "model.fit(X_train, y_train)\n",
    "y_pred = model.predict(X_test)\n",
    "confusion_matrix(y_test, y_pred)"
   ]
  },
  {
   "cell_type": "code",
   "execution_count": 262,
   "metadata": {},
   "outputs": [],
   "source": [
    "y_pred_prob_sig = model.predict_proba(X_test)[:,1]"
   ]
  },
  {
   "cell_type": "code",
   "execution_count": 263,
   "metadata": {},
   "outputs": [],
   "source": [
    "bkg_eff, sig_eff, thresholds = roc_curve(y_test, y_pred_prob_sig)"
   ]
  },
  {
   "cell_type": "code",
   "execution_count": 265,
   "metadata": {},
   "outputs": [
    {
     "data": {
      "text/plain": [
       "Text(0, 0.5, 'Sig eff')"
      ]
     },
     "execution_count": 265,
     "metadata": {},
     "output_type": "execute_result"
    },
    {
     "data": {
      "image/png": "[encoded data removed]",
      "text/plain": [
       "<Figure size 720x720 with 1 Axes>"
      ]
     },
     "metadata": {
      "needs_background": "light"
     },
     "output_type": "display_data"
    }
   ],
   "source": [
    "fig = plt.figure()\n",
    "ax = fig.gca()\n",
    "\n",
    "ax.plot(bkg_eff, sig_eff)\n",
    "ax.set_title('BDT roc curve', fontsize=40)\n",
    "ax.set_xlabel('Bkg eff', fontsize=32)\n",
    "ax.set_ylabel('Sig eff', fontsize=32)"
   ]
  },
  {
   "cell_type": "code",
   "execution_count": null,
   "metadata": {},
   "outputs": [],
   "source": []
  }
 ],
 "metadata": {
  "kernelspec": {
   "display_name": "Python 3",
   "language": "python",
   "name": "python3"
  },
  "language_info": {
   "codemirror_mode": {
    "name": "ipython",
    "version": 3
   },
   "file_extension": ".py",
   "mimetype": "text/x-python",
   "name": "python",
   "nbconvert_exporter": "python",
   "pygments_lexer": "ipython3",
   "version": "3.8.5"
  }
 },
 "nbformat": 4,
 "nbformat_minor": 4
}
