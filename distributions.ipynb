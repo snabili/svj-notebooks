{
 "cells": [
  {
   "cell_type": "code",
   "execution_count": 1,
   "metadata": {},
   "outputs": [
    {
     "name": "stderr",
     "output_type": "stream",
     "text": [
      "\u001b[33m   INFO:2020-10-27 15:28:05:__init__:31\u001b[0m Using tqdm notebook\n"
     ]
    }
   ],
   "source": [
    "import svjflatanalysis\n",
    "import numpy as np\n",
    "from time import strftime\n",
    "import os\n",
    "import os.path as osp\n",
    "import imp, importlib\n",
    "import mplhep\n",
    "import seutils"
   ]
  },
  {
   "cell_type": "code",
   "execution_count": 9,
   "metadata": {
    "scrolled": false
   },
   "outputs": [
    {
     "name": "stderr",
     "output_type": "stream",
     "text": [
      "\u001b[33m   INFO:2020-10-27 15:33:13:dataset:134\u001b[0m Cached ~4.5 Mb (4535 entries, 16 branches) for <svjflatanalysis.dataset.SignalDataset mz150_year2018 (1 root files) object at 0x192574e80>\n",
      "\u001b[33m   INFO:2020-10-27 15:33:15:dataset:134\u001b[0m Cached ~11.1 Mb (11181 entries, 16 branches) for <svjflatanalysis.dataset.SignalDataset mz250_year2018 (1 root files) object at 0x19274c1c0>\n"
     ]
    }
   ],
   "source": [
    "importlib.reload(svjflatanalysis.samples)\n",
    "importlib.reload(svjflatanalysis.dataset)\n",
    "\n",
    "signals = svjflatanalysis.samples.init_sigs_triggered(2018, max_entries=None)\n",
    "\n",
    "\n"
   ]
  },
  {
   "cell_type": "code",
   "execution_count": null,
   "metadata": {},
   "outputs": [],
   "source": []
  }
 ],
 "metadata": {
  "kernelspec": {
   "display_name": "Python 3",
   "language": "python",
   "name": "python3"
  },
  "language_info": {
   "codemirror_mode": {
    "name": "ipython",
    "version": 3
   },
   "file_extension": ".py",
   "mimetype": "text/x-python",
   "name": "python",
   "nbconvert_exporter": "python",
   "pygments_lexer": "ipython3",
   "version": "3.8.5"
  }
 },
 "nbformat": 4,
 "nbformat_minor": 4
}
